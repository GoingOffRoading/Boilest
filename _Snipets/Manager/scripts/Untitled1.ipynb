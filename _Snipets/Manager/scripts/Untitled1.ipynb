{
 "cells": [
  {
   "cell_type": "code",
   "execution_count": 7,
   "id": "73e913a0",
   "metadata": {},
   "outputs": [],
   "source": [
    "import subprocess as sp\n",
    "import shlex\n",
    "import json\n",
    "\n",
    "def ffprober(FILEPATH):\n",
    "    # Execute ffprobe and get the codec of the first FILEPATH, audio, and subtitle stream\n",
    "    \n",
    "    container = sp.run(shlex.split(f'ffprobe -v quiet -show_entries format=format_name -of default=noprint_wrappers=1:nokey=1 {FILEPATH}'), capture_output=True).stdout.decode('utf8').strip()       \n",
    "    vcodec = sp.run(shlex.split(f'ffprobe -v error -select_streams v:0 -show_entries stream=codec_name -of default=noprint_wrappers=1:nokey=1 {FILEPATH}'), capture_output=True).stdout.decode('utf8').strip()\n",
    "    acodec = sp.run(shlex.split(f'ffprobe -v error -select_streams a:0 -show_entries stream=codec_name -of default=noprint_wrappers=1:nokey=1 {FILEPATH}'), capture_output=True).stdout.decode('utf8').strip()\n",
    "    scodec = sp.run(shlex.split(f'ffprobe -v error -select_streams s:0 -show_entries stream=codec_name -of default=noprint_wrappers=1:nokey=1 {FILEPATH}'), capture_output=True).stdout.decode('utf8').strip()\n",
    "\n",
    "    # Same as above, but outputs a larger object as json\n",
    "    # I abandoned this approach as it was too dificult to loop through the JSON to find the first stream of each codec type (vido, audio, subtitle)\n",
    "    # This would be ideal, as it reduces the file calls from three to one, so lets call this a someday task\n",
    "    #data = sp.run(shlex.split(f'ffprobe -loglevel error -show_streams -of json {FILEPATH}'), capture_output=True).stdout\n",
    "    # Convert data from JSON string to dictionary\n",
    "    #d = json.loads(data)\n",
    "    # Uncoment these for diagnostics\n",
    "    # Get codecs\n",
    "    #FILEPATH_codec = ({d[\"streams\"][0][\"codec_name\"]})\n",
    "    #audio_codec = ({d[\"streams\"][1][\"codec_name\"]})\n",
    "    #subtitle_format = ({d[\"streams\"][2][\"codec_name\"]})\n",
    "\n",
    "\n",
    "    # Now lets determine how the file needs to be processed by ffmpeg\n",
    "\n",
    "    encode = str()\n",
    "\n",
    "    if vcodec != 'av1':\n",
    "        print (FILEPATH + ' is using ' + vcodec + ', not AV1')\n",
    "        encode = encode + '-c:v libsvtav1 -crf 20 -preset 4 -g 240 -pix_fmt yuv420p10le'\n",
    "\n",
    "    if acodec != 'opus':\n",
    "        print (FILEPATH + ' is using ' + acodec + ', not OPUS')\n",
    "        encode = encode + '-c:a libopus'\n",
    "        \n",
    "    if scodec != 'subrip':\n",
    "        print (FILEPATH + ' is using ' + scodec + ', not SRT')\n",
    "        encode = encode + '-c:s srt'\n",
    "\n",
    "    # Now lets determine if we should pass a FILEPATH file to the next step, and what that step will cover\n",
    "\n",
    "    if container == 'matroska,webm' and vcodec == 'av1' and acodec == 'opus' and scodec == 'subrip': \n",
    "        print (FILEPATH + ' is using all of the correct containers and codecs')\n",
    "    else:\n",
    "        job = {'file':FILEPATH, 'encode_string':encode}\n",
    "        jobjson = json.dumps(job)\n",
    "        print(jobjson)\n"
   ]
  },
  {
   "cell_type": "code",
   "execution_count": 8,
   "id": "c6331ca4",
   "metadata": {},
   "outputs": [
    {
     "name": "stdout",
     "output_type": "stream",
     "text": [
      "C:/Users/Chase/Media/Newfolder/pythontest.mkv is using all of the correct containers and codecs\n"
     ]
    }
   ],
   "source": [
    "ffprober('C:/Users/Chase/Media/Newfolder/pythontest.mkv')"
   ]
  },
  {
   "cell_type": "code",
   "execution_count": null,
   "id": "face3b46",
   "metadata": {},
   "outputs": [],
   "source": []
  }
 ],
 "metadata": {
  "kernelspec": {
   "display_name": "Python 3 (ipykernel)",
   "language": "python",
   "name": "python3"
  },
  "language_info": {
   "codemirror_mode": {
    "name": "ipython",
    "version": 3
   },
   "file_extension": ".py",
   "mimetype": "text/x-python",
   "name": "python",
   "nbconvert_exporter": "python",
   "pygments_lexer": "ipython3",
   "version": "3.9.12"
  }
 },
 "nbformat": 4,
 "nbformat_minor": 5
}
