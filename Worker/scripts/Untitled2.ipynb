{
 "cells": [
  {
   "cell_type": "code",
   "execution_count": 19,
   "id": "d28042ec",
   "metadata": {},
   "outputs": [
    {
     "name": "stdout",
     "output_type": "stream",
     "text": [
      "/boil_watch/newtest.mkv\n",
      "-c:v libsvtav1 -crf 20 -preset 4 -g 240 -pix_fmt yuv420p10le-c:s srt\n",
      "newtest\n",
      "ffmpeg -i /boil_watch/newtest.mkv -c:v libsvtav1 -crf 20 -preset 4 -g 240 -pix_fmt yuv420p10le-c:s srt /boil_hold/newtest.mkv\n",
      "ffmpeg version 2023-07-19-git-efa6cec759-full_build-www.gyan.dev Copyright (c) 2000-2023 the FFmpeg developers\n",
      "  built with gcc 12.2.0 (Rev10, Built by MSYS2 project)\n",
      "  configuration: --enable-gpl --enable-version3 --enable-static --disable-w32threads --disable-autodetect --enable-fontconfig --enable-iconv --enable-gnutls --enable-libxml2 --enable-gmp --enable-bzlib --enable-lzma --enable-libsnappy --enable-zlib --enable-librist --enable-libsrt --enable-libssh --enable-libzmq --enable-avisynth --enable-libbluray --enable-libcaca --enable-sdl2 --enable-libaribb24 --enable-libaribcaption --enable-libdav1d --enable-libdavs2 --enable-libuavs3d --enable-libzvbi --enable-librav1e --enable-libsvtav1 --enable-libwebp --enable-libx264 --enable-libx265 --enable-libxavs2 --enable-libxvid --enable-libaom --enable-libjxl --enable-libopenjpeg --enable-libvpx --enable-mediafoundation --enable-libass --enable-frei0r --enable-libfreetype --enable-libfribidi --enable-libharfbuzz --enable-liblensfun --enable-libvidstab --enable-libvmaf --enable-libzimg --enable-amf --enable-cuda-llvm --enable-cuvid --enable-ffnvcodec --enable-nvdec --enable-nvenc --enable-d3d11va --enable-dxva2 --enable-libvpl --enable-libshaderc --enable-vulkan --enable-libplacebo --enable-opencl --enable-libcdio --enable-libgme --enable-libmodplug --enable-libopenmpt --enable-libopencore-amrwb --enable-libmp3lame --enable-libshine --enable-libtheora --enable-libtwolame --enable-libvo-amrwbenc --enable-libcodec2 --enable-libilbc --enable-libgsm --enable-libopencore-amrnb --enable-libopus --enable-libspeex --enable-libvorbis --enable-ladspa --enable-libbs2b --enable-libflite --enable-libmysofa --enable-librubberband --enable-libsoxr --enable-chromaprint\n",
      "  libavutil      58. 14.100 / 58. 14.100\n",
      "  libavcodec     60. 22.100 / 60. 22.100\n",
      "  libavformat    60. 10.100 / 60. 10.100\n",
      "  libavdevice    60.  2.101 / 60.  2.101\n",
      "  libavfilter     9.  8.102 /  9.  8.102\n",
      "  libswscale      7.  3.100 /  7.  3.100\n",
      "  libswresample   4. 11.100 /  4. 11.100\n",
      "  libpostproc    57.  2.100 / 57.  2.100\n",
      "[in#0 @ 00000220b48c7640] Error opening input: No such file or directory\n",
      "Error opening input file /boil_watch/newtest.mkv.\n",
      "Error opening input files: No such file or directory\n",
      "\n"
     ]
    }
   ],
   "source": [
    "import json\n",
    "import subprocess\n",
    "from pathlib import Path\n",
    "\n",
    "json_stuff = '{\"file_path\": \"/boil_watch/newtest.mkv\", \"encode_string\": \"-c:v libsvtav1 -crf 20 -preset 4 -g 240 -pix_fmt yuv420p10le-c:s srt\", \"file\": \"newtest.mkv\"}'\n",
    "d = json.loads(json_stuff)\n",
    "\n",
    "input_file = (d[\"file_path\"])\n",
    "print (input_file)\n",
    "\n",
    "ffmpeg_string = (d[\"encode_string\"])\n",
    "print (ffmpeg_string)\n",
    "\n",
    "file_name = Path(input_file).stem\n",
    "print (file_name)\n",
    "\n",
    "ffmpeg_string = 'ffmpeg -i ' + input_file + ' ' + ffmpeg_string + ' /boil_hold/'+ file_name + '.mkv'\n",
    "print (ffmpeg_string)\n",
    "\n",
    "process = subprocess.Popen(\n",
    "    (ffmpeg_string),\n",
    "    stderr=subprocess.PIPE,\n",
    "    text=True)\n",
    "    \n",
    "print(process.stderr.read())\n",
    "\n"
   ]
  },
  {
   "cell_type": "code",
   "execution_count": null,
   "id": "98c440c4",
   "metadata": {},
   "outputs": [],
   "source": []
  },
  {
   "cell_type": "code",
   "execution_count": null,
   "id": "0a492ac3",
   "metadata": {},
   "outputs": [],
   "source": []
  },
  {
   "cell_type": "code",
   "execution_count": null,
   "id": "c98792e4",
   "metadata": {},
   "outputs": [],
   "source": []
  },
  {
   "cell_type": "code",
   "execution_count": null,
   "id": "334a0967",
   "metadata": {},
   "outputs": [],
   "source": []
  },
  {
   "cell_type": "code",
   "execution_count": null,
   "id": "e4d048d7",
   "metadata": {},
   "outputs": [],
   "source": []
  },
  {
   "cell_type": "code",
   "execution_count": null,
   "id": "3dc8ef10",
   "metadata": {},
   "outputs": [],
   "source": []
  },
  {
   "cell_type": "code",
   "execution_count": null,
   "id": "5759544f",
   "metadata": {},
   "outputs": [],
   "source": []
  }
 ],
 "metadata": {
  "kernelspec": {
   "display_name": "Python 3 (ipykernel)",
   "language": "python",
   "name": "python3"
  },
  "language_info": {
   "codemirror_mode": {
    "name": "ipython",
    "version": 3
   },
   "file_extension": ".py",
   "mimetype": "text/x-python",
   "name": "python",
   "nbconvert_exporter": "python",
   "pygments_lexer": "ipython3",
   "version": "3.9.12"
  }
 },
 "nbformat": 4,
 "nbformat_minor": 5
}
