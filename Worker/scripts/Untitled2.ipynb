{
 "cells": [
  {
   "cell_type": "code",
   "execution_count": 81,
   "id": "d28042ec",
   "metadata": {},
   "outputs": [
    {
     "name": "stdout",
     "output_type": "stream",
     "text": [
      "/boil_watch/newtest.mkv\n",
      "-c:v libsvtav1 -crf 20 -preset 4 -g 240 -pix_fmt yuv420p10le-c:s srt\n",
      "/boil_watch/newtest.mkv -c:v libsvtav1 -crf 20 -preset 4 -g 240 -pix_fmt yuv420p10le-c:s srt\n"
     ]
    }
   ],
   "source": [
    "import json\n",
    "\n",
    "json_stuff = '{\"file_path\": \"/boil_watch/newtest.mkv\", \"encode_string\": \"-c:v libsvtav1 -crf 20 -preset 4 -g 240 -pix_fmt yuv420p10le-c:s srt\", \"file\": \"newtest.mkv\"}'\n",
    "d = json.loads(json_stuff)\n",
    "\n",
    "input_file = (d[\"file_path\"])\n",
    "print (input_file)\n",
    "\n",
    "ffmpeg_string = (d[\"encode_string\"])\n",
    "print (ffmpeg_string)\n",
    "\n",
    "\n",
    "\n",
    "ffmpeg_string = input_file + ' ' + ffmpeg_string\n",
    "print (ffmpeg_string)\n"
   ]
  },
  {
   "cell_type": "code",
   "execution_count": 17,
   "id": "0f0b0d94",
   "metadata": {},
   "outputs": [
    {
     "name": "stdout",
     "output_type": "stream",
     "text": [
      "Collecting pathlib\n",
      "  Downloading pathlib-1.0.1-py3-none-any.whl (14 kB)\n",
      "Installing collected packages: pathlib\n",
      "Successfully installed pathlib-1.0.1\n"
     ]
    }
   ],
   "source": []
  },
  {
   "cell_type": "code",
   "execution_count": null,
   "id": "98c440c4",
   "metadata": {},
   "outputs": [],
   "source": []
  }
 ],
 "metadata": {
  "kernelspec": {
   "display_name": "Python 3 (ipykernel)",
   "language": "python",
   "name": "python3"
  },
  "language_info": {
   "codemirror_mode": {
    "name": "ipython",
    "version": 3
   },
   "file_extension": ".py",
   "mimetype": "text/x-python",
   "name": "python",
   "nbconvert_exporter": "python",
   "pygments_lexer": "ipython3",
   "version": "3.9.12"
  }
 },
 "nbformat": 4,
 "nbformat_minor": 5
}
