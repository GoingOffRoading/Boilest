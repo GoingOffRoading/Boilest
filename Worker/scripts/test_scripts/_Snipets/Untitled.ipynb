{
 "cells": [
  {
   "cell_type": "code",
   "execution_count": 76,
   "id": "f69ffe36",
   "metadata": {},
   "outputs": [],
   "source": [
    "import os\n",
    "def findmedia(DIRECTORY):\n",
    "    print('Going to start scanning ' + DIRECTORY)\n",
    "    # traverse whole directory\n",
    "    for root, dirs, files in os.walk(DIRECTORY):\n",
    "        # select file name\n",
    "        for file in files:\n",
    "            # check the extension of files\n",
    "            if file.endswith('.mkv') or file.endswith('.mp4'):\n",
    "                # print whole path of files\n",
    "                print(os.path.join(root, file))\n",
    "                "
   ]
  },
  {
   "cell_type": "code",
   "execution_count": 77,
   "id": "520e1bfe",
   "metadata": {},
   "outputs": [
    {
     "name": "stdout",
     "output_type": "stream",
     "text": [
      "Going to start scanning C:\\Users\\Chase\\Media\n",
      "C:\\Users\\Chase\\Media\\newtest.mkv\n",
      "C:\\Users\\Chase\\Media\\testsrtlaopusasd.mkv\n",
      "C:\\Users\\Chase\\Media\\Newfolder\\pythontest.mkv\n",
      "C:\\Users\\Chase\\Media\\Newfolder\\subtest.mkv\n",
      "C:\\Users\\Chase\\Media\\Newfolder\\test3.mkv\n",
      "C:\\Users\\Chase\\Media\\Newfolder\\testcrf10preset410bit.mkv\n",
      "C:\\Users\\Chase\\Media\\Newfolder\\testcrf15preset5.mkv\n",
      "C:\\Users\\Chase\\Media\\Newfolder\\testcrf20preset510bitactual.mkv\n",
      "C:\\Users\\Chase\\Media\\Newfolder\\testcrf25.mkv\n",
      "C:\\Users\\Chase\\Media\\Newfolder\\testcrf25preset5.mkv\n",
      "C:\\Users\\Chase\\Media\\Newfolder\\testcrf35.mkv\n",
      "C:\\Users\\Chase\\Media\\Newfolder\\testkeyframesl.mkv\n",
      "C:\\Users\\Chase\\Media\\Newfolder\\testkeyframesl240.mkv\n",
      "C:\\Users\\Chase\\Media\\Newfolder\\testsrtl.mkv\n",
      "C:\\Users\\Chase\\Media\\Newfolder\\testsrtlac3.mkv\n",
      "C:\\Users\\Chase\\Media\\Newfolder\\testsrtlacc.mkv\n",
      "C:\\Users\\Chase\\Media\\Newfolder\\testsrtlaopus.mkv\n",
      "C:\\Users\\Chase\\Media\\Newfolder\\testsrtlaopus111.mkv\n",
      "C:\\Users\\Chase\\Media\\Newfolder\\test_nvec_crf20.mkv\n"
     ]
    }
   ],
   "source": [
    "findmedia('C:\\\\Users\\Chase\\Media')"
   ]
  },
  {
   "cell_type": "code",
   "execution_count": 54,
   "id": "ffbf05d1",
   "metadata": {},
   "outputs": [
    {
     "ename": "SyntaxError",
     "evalue": "(unicode error) 'unicodeescape' codec can't decode bytes in position 91-92: truncated \\UXXXXXXXX escape (85705303.py, line 6)",
     "output_type": "error",
     "traceback": [
      "\u001b[1;36m  Input \u001b[1;32mIn [54]\u001b[1;36m\u001b[0m\n\u001b[1;33m    container = sp.run(shlex.split(f'ffprobe -v quiet -show_entries format=format_name -of default=noprint_wrappers=1:nokey=1 C:\\Users\\Chase\\Media\\newfolder\\pythontest.mkv'), capture_output=True).stdout.decode('utf8').strip()\u001b[0m\n\u001b[1;37m                                                                                                                                                                            ^\u001b[0m\n\u001b[1;31mSyntaxError\u001b[0m\u001b[1;31m:\u001b[0m (unicode error) 'unicodeescape' codec can't decode bytes in position 91-92: truncated \\UXXXXXXXX escape\n"
     ]
    }
   ],
   "source": [
    "import subprocess as sp\n",
    "import shlex\n",
    "import json\n",
    "\n",
    "def ffcontainer():\n",
    "    container = sp.run(shlex.split(f'ffprobe -v quiet -show_entries format=format_name -of default=noprint_wrappers=1:nokey=1 C:\\Users\\Chase\\Media\\newfolder\\pythontest.mkv'), capture_output=True).stdout.decode('utf8').strip()\n",
    "    print (container)\n",
    "    \n",
    "def ffprober(FILEPATH):\n",
    "    # Execute ffprobe and get the codec of the first FILEPATH, audio, and subtitle stream\n",
    "    container = sp.run(shlex.split(f'ffprobe -v quiet -show_entries format=format_name -of default=noprint_wrappers=1:nokey=1 {FILEPATH}'), capture_output=True).stdout.decode('utf8').strip()       \n",
    "    vcodec = sp.run(shlex.split(f'ffprobe -v error -select_streams v:0 -show_entries stream=codec_name -of default=noprint_wrappers=1:nokey=1 {FILEPATH}'), capture_output=True).stdout.decode('utf8').strip()\n",
    "    acodec = sp.run(shlex.split(f'ffprobe -v error -select_streams a:0 -show_entries stream=codec_name -of default=noprint_wrappers=1:nokey=1 {FILEPATH}'), capture_output=True).stdout.decode('utf8').strip()\n",
    "    scodec = sp.run(shlex.split(f'ffprobe -v error -select_streams s:0 -show_entries stream=codec_name -of default=noprint_wrappers=1:nokey=1 {FILEPATH}'), capture_output=True).stdout.decode('utf8').strip()\n",
    "\n",
    "    # Same as above, but outputs a larger object as json\n",
    "    # I abandoned this approach as it was too dificult to loop through the JSON to find the first stream of each codec type (vido, audio, subtitle)\n",
    "    # This would be ideal, as it reduces the file calls from three to one, so lets call this a someday task\n",
    "    #data = sp.run(shlex.split(f'ffprobe -loglevel error -show_streams -of json {FILEPATH}'), capture_output=True).stdout\n",
    "    # Convert data from JSON string to dictionary\n",
    "    #d = json.loads(data)\n",
    "    # Uncoment these for diagnostics\n",
    "    # Get codecs\n",
    "    #FILEPATH_codec = ({d[\"streams\"][0][\"codec_name\"]})\n",
    "    #audio_codec = ({d[\"streams\"][1][\"codec_name\"]})\n",
    "    #subtitle_format = ({d[\"streams\"][2][\"codec_name\"]})\n",
    "\n",
    "\n",
    "    # Now lets determine how the file needs to be processed by ffmpeg\n",
    "\n",
    "    encode = str()\n",
    "    print (vcodec + ' ' + acodec + ' ' + scodec)\n",
    "\n",
    "    if vcodec != 'av1':\n",
    "        \n",
    "        print (FILEPATH + ' is' + vcodec + 'which is not AV1')\n",
    "        encode = encode + '-c:v libsvtav1 -crf 20 -preset 4 -g 240 -pix_fmt yuv420p10le'\n",
    "\n",
    "    if acodec != 'opus':\n",
    "        print (FILEPATH + ' is' + acodec + 'which is not OPUS')\n",
    "        encode = encode + '-c:a libopus'\n",
    "        \n",
    "    if scodec != 'subrip':\n",
    "        print (FILEPATH + ' is' + scodec + 'which is not SRT')\n",
    "        encode = encode + '-c:s srt'\n",
    "\n",
    "    # Now lets determine if we should pass a FILEPATH file to the next step, and what that step will cover\n",
    "\n",
    "    if container == 'matroska,webm' and vcodec == 'av1' and acodec == 'opus' and scodec == 'subrip': \n",
    "        print (FILEPATH + ' is using all of the correct containers and codecs')\n",
    "    else:\n",
    "        job = {'file':FILEPATH, 'encode_string':encode}\n",
    "        jobjson = json.dumps(job)\n",
    "        print(jobjson)\n"
   ]
  },
  {
   "cell_type": "code",
   "execution_count": 55,
   "id": "c764de11",
   "metadata": {},
   "outputs": [
    {
     "name": "stdout",
     "output_type": "stream",
     "text": [
      "\n"
     ]
    }
   ],
   "source": [
    "ffcontainer()"
   ]
  },
  {
   "cell_type": "code",
   "execution_count": 106,
   "id": "8cc5fbf5",
   "metadata": {},
   "outputs": [],
   "source": [
    "import subprocess as sp\n",
    "import shlex\n",
    "import json\n",
    "\n",
    "def ffprober(FILEPATH):\n",
    "    # Execute ffprobe and get the codec of the first FILEPATH, audio, and subtitle stream\n",
    "    container = sp.run(shlex.split(f'ffprobe -v quiet -show_entries format=format_name -of default=noprint_wrappers=1:nokey=1 FILEPATH'), capture_output=True).stdout.decode('utf8').strip()\n",
    "    print (container)"
   ]
  },
  {
   "cell_type": "code",
   "execution_count": 107,
   "id": "faa18857",
   "metadata": {},
   "outputs": [
    {
     "name": "stdout",
     "output_type": "stream",
     "text": [
      "\n"
     ]
    }
   ],
   "source": [
    "ffprober('C:/Users/Chase/Media/Newfolder/pythontest.mkv')"
   ]
  },
  {
   "cell_type": "code",
   "execution_count": 96,
   "id": "ea78d33d",
   "metadata": {},
   "outputs": [],
   "source": [
    "import subprocess\n",
    "\n",
    "def ffprobing(FILEPATH):\n",
    "    process = subprocess.Popen(\n",
    "        ['ffprobe -v quiet -show_entries format=format_name -of default=noprint_wrappers=1:nokey=1 {FILEPATH}'],\n",
    "        stderr=subprocess.PIPE, \n",
    "        text=True)\n",
    "\n",
    "    print(process.stderr.read())\n"
   ]
  },
  {
   "cell_type": "code",
   "execution_count": 98,
   "id": "c6d958f0",
   "metadata": {},
   "outputs": [
    {
     "ename": "FileNotFoundError",
     "evalue": "[WinError 2] The system cannot find the file specified",
     "output_type": "error",
     "traceback": [
      "\u001b[1;31m---------------------------------------------------------------------------\u001b[0m",
      "\u001b[1;31mFileNotFoundError\u001b[0m                         Traceback (most recent call last)",
      "Input \u001b[1;32mIn [98]\u001b[0m, in \u001b[0;36m<cell line: 1>\u001b[1;34m()\u001b[0m\n\u001b[1;32m----> 1\u001b[0m \u001b[43mffprobing\u001b[49m\u001b[43m(\u001b[49m\u001b[38;5;124;43m\"\u001b[39;49m\u001b[38;5;124;43mC:/Users/Chase/Media/Newfolder/pythontest.mkv\u001b[39;49m\u001b[38;5;124;43m\"\u001b[39;49m\u001b[43m)\u001b[49m\n",
      "Input \u001b[1;32mIn [96]\u001b[0m, in \u001b[0;36mffprobing\u001b[1;34m(FILEPATH)\u001b[0m\n\u001b[0;32m      3\u001b[0m \u001b[38;5;28;01mdef\u001b[39;00m \u001b[38;5;21mffprobing\u001b[39m(FILEPATH):\n\u001b[1;32m----> 4\u001b[0m     process \u001b[38;5;241m=\u001b[39m \u001b[43msubprocess\u001b[49m\u001b[38;5;241;43m.\u001b[39;49m\u001b[43mPopen\u001b[49m\u001b[43m(\u001b[49m\n\u001b[0;32m      5\u001b[0m \u001b[43m        \u001b[49m\u001b[43m[\u001b[49m\u001b[38;5;124;43m'\u001b[39;49m\u001b[38;5;124;43mffprobe -v quiet -show_entries format=format_name -of default=noprint_wrappers=1:nokey=1 \u001b[39;49m\u001b[38;5;132;43;01m{FILEPATH}\u001b[39;49;00m\u001b[38;5;124;43m'\u001b[39;49m\u001b[43m]\u001b[49m\u001b[43m,\u001b[49m\n\u001b[0;32m      6\u001b[0m \u001b[43m        \u001b[49m\u001b[43mstderr\u001b[49m\u001b[38;5;241;43m=\u001b[39;49m\u001b[43msubprocess\u001b[49m\u001b[38;5;241;43m.\u001b[39;49m\u001b[43mPIPE\u001b[49m\u001b[43m,\u001b[49m\u001b[43m \u001b[49m\n\u001b[0;32m      7\u001b[0m \u001b[43m        \u001b[49m\u001b[43mtext\u001b[49m\u001b[38;5;241;43m=\u001b[39;49m\u001b[38;5;28;43;01mTrue\u001b[39;49;00m\u001b[43m)\u001b[49m\n\u001b[0;32m      9\u001b[0m     \u001b[38;5;28mprint\u001b[39m(process\u001b[38;5;241m.\u001b[39mstderr\u001b[38;5;241m.\u001b[39mread())\n",
      "File \u001b[1;32m~\\anaconda3\\lib\\subprocess.py:951\u001b[0m, in \u001b[0;36mPopen.__init__\u001b[1;34m(self, args, bufsize, executable, stdin, stdout, stderr, preexec_fn, close_fds, shell, cwd, env, universal_newlines, startupinfo, creationflags, restore_signals, start_new_session, pass_fds, user, group, extra_groups, encoding, errors, text, umask)\u001b[0m\n\u001b[0;32m    947\u001b[0m         \u001b[38;5;28;01mif\u001b[39;00m \u001b[38;5;28mself\u001b[39m\u001b[38;5;241m.\u001b[39mtext_mode:\n\u001b[0;32m    948\u001b[0m             \u001b[38;5;28mself\u001b[39m\u001b[38;5;241m.\u001b[39mstderr \u001b[38;5;241m=\u001b[39m io\u001b[38;5;241m.\u001b[39mTextIOWrapper(\u001b[38;5;28mself\u001b[39m\u001b[38;5;241m.\u001b[39mstderr,\n\u001b[0;32m    949\u001b[0m                     encoding\u001b[38;5;241m=\u001b[39mencoding, errors\u001b[38;5;241m=\u001b[39merrors)\n\u001b[1;32m--> 951\u001b[0m     \u001b[38;5;28;43mself\u001b[39;49m\u001b[38;5;241;43m.\u001b[39;49m\u001b[43m_execute_child\u001b[49m\u001b[43m(\u001b[49m\u001b[43margs\u001b[49m\u001b[43m,\u001b[49m\u001b[43m \u001b[49m\u001b[43mexecutable\u001b[49m\u001b[43m,\u001b[49m\u001b[43m \u001b[49m\u001b[43mpreexec_fn\u001b[49m\u001b[43m,\u001b[49m\u001b[43m \u001b[49m\u001b[43mclose_fds\u001b[49m\u001b[43m,\u001b[49m\n\u001b[0;32m    952\u001b[0m \u001b[43m                        \u001b[49m\u001b[43mpass_fds\u001b[49m\u001b[43m,\u001b[49m\u001b[43m \u001b[49m\u001b[43mcwd\u001b[49m\u001b[43m,\u001b[49m\u001b[43m \u001b[49m\u001b[43menv\u001b[49m\u001b[43m,\u001b[49m\n\u001b[0;32m    953\u001b[0m \u001b[43m                        \u001b[49m\u001b[43mstartupinfo\u001b[49m\u001b[43m,\u001b[49m\u001b[43m \u001b[49m\u001b[43mcreationflags\u001b[49m\u001b[43m,\u001b[49m\u001b[43m \u001b[49m\u001b[43mshell\u001b[49m\u001b[43m,\u001b[49m\n\u001b[0;32m    954\u001b[0m \u001b[43m                        \u001b[49m\u001b[43mp2cread\u001b[49m\u001b[43m,\u001b[49m\u001b[43m \u001b[49m\u001b[43mp2cwrite\u001b[49m\u001b[43m,\u001b[49m\n\u001b[0;32m    955\u001b[0m \u001b[43m                        \u001b[49m\u001b[43mc2pread\u001b[49m\u001b[43m,\u001b[49m\u001b[43m \u001b[49m\u001b[43mc2pwrite\u001b[49m\u001b[43m,\u001b[49m\n\u001b[0;32m    956\u001b[0m \u001b[43m                        \u001b[49m\u001b[43merrread\u001b[49m\u001b[43m,\u001b[49m\u001b[43m \u001b[49m\u001b[43merrwrite\u001b[49m\u001b[43m,\u001b[49m\n\u001b[0;32m    957\u001b[0m \u001b[43m                        \u001b[49m\u001b[43mrestore_signals\u001b[49m\u001b[43m,\u001b[49m\n\u001b[0;32m    958\u001b[0m \u001b[43m                        \u001b[49m\u001b[43mgid\u001b[49m\u001b[43m,\u001b[49m\u001b[43m \u001b[49m\u001b[43mgids\u001b[49m\u001b[43m,\u001b[49m\u001b[43m \u001b[49m\u001b[43muid\u001b[49m\u001b[43m,\u001b[49m\u001b[43m \u001b[49m\u001b[43mumask\u001b[49m\u001b[43m,\u001b[49m\n\u001b[0;32m    959\u001b[0m \u001b[43m                        \u001b[49m\u001b[43mstart_new_session\u001b[49m\u001b[43m)\u001b[49m\n\u001b[0;32m    960\u001b[0m \u001b[38;5;28;01mexcept\u001b[39;00m:\n\u001b[0;32m    961\u001b[0m     \u001b[38;5;66;03m# Cleanup if the child failed starting.\u001b[39;00m\n\u001b[0;32m    962\u001b[0m     \u001b[38;5;28;01mfor\u001b[39;00m f \u001b[38;5;129;01min\u001b[39;00m \u001b[38;5;28mfilter\u001b[39m(\u001b[38;5;28;01mNone\u001b[39;00m, (\u001b[38;5;28mself\u001b[39m\u001b[38;5;241m.\u001b[39mstdin, \u001b[38;5;28mself\u001b[39m\u001b[38;5;241m.\u001b[39mstdout, \u001b[38;5;28mself\u001b[39m\u001b[38;5;241m.\u001b[39mstderr)):\n",
      "File \u001b[1;32m~\\anaconda3\\lib\\subprocess.py:1420\u001b[0m, in \u001b[0;36mPopen._execute_child\u001b[1;34m(self, args, executable, preexec_fn, close_fds, pass_fds, cwd, env, startupinfo, creationflags, shell, p2cread, p2cwrite, c2pread, c2pwrite, errread, errwrite, unused_restore_signals, unused_gid, unused_gids, unused_uid, unused_umask, unused_start_new_session)\u001b[0m\n\u001b[0;32m   1418\u001b[0m \u001b[38;5;66;03m# Start the process\u001b[39;00m\n\u001b[0;32m   1419\u001b[0m \u001b[38;5;28;01mtry\u001b[39;00m:\n\u001b[1;32m-> 1420\u001b[0m     hp, ht, pid, tid \u001b[38;5;241m=\u001b[39m \u001b[43m_winapi\u001b[49m\u001b[38;5;241;43m.\u001b[39;49m\u001b[43mCreateProcess\u001b[49m\u001b[43m(\u001b[49m\u001b[43mexecutable\u001b[49m\u001b[43m,\u001b[49m\u001b[43m \u001b[49m\u001b[43margs\u001b[49m\u001b[43m,\u001b[49m\n\u001b[0;32m   1421\u001b[0m \u001b[43m                             \u001b[49m\u001b[38;5;66;43;03m# no special security\u001b[39;49;00m\n\u001b[0;32m   1422\u001b[0m \u001b[43m                             \u001b[49m\u001b[38;5;28;43;01mNone\u001b[39;49;00m\u001b[43m,\u001b[49m\u001b[43m \u001b[49m\u001b[38;5;28;43;01mNone\u001b[39;49;00m\u001b[43m,\u001b[49m\n\u001b[0;32m   1423\u001b[0m \u001b[43m                             \u001b[49m\u001b[38;5;28;43mint\u001b[39;49m\u001b[43m(\u001b[49m\u001b[38;5;129;43;01mnot\u001b[39;49;00m\u001b[43m \u001b[49m\u001b[43mclose_fds\u001b[49m\u001b[43m)\u001b[49m\u001b[43m,\u001b[49m\n\u001b[0;32m   1424\u001b[0m \u001b[43m                             \u001b[49m\u001b[43mcreationflags\u001b[49m\u001b[43m,\u001b[49m\n\u001b[0;32m   1425\u001b[0m \u001b[43m                             \u001b[49m\u001b[43menv\u001b[49m\u001b[43m,\u001b[49m\n\u001b[0;32m   1426\u001b[0m \u001b[43m                             \u001b[49m\u001b[43mcwd\u001b[49m\u001b[43m,\u001b[49m\n\u001b[0;32m   1427\u001b[0m \u001b[43m                             \u001b[49m\u001b[43mstartupinfo\u001b[49m\u001b[43m)\u001b[49m\n\u001b[0;32m   1428\u001b[0m \u001b[38;5;28;01mfinally\u001b[39;00m:\n\u001b[0;32m   1429\u001b[0m     \u001b[38;5;66;03m# Child is launched. Close the parent's copy of those pipe\u001b[39;00m\n\u001b[0;32m   1430\u001b[0m     \u001b[38;5;66;03m# handles that only the child should have open.  You need\u001b[39;00m\n\u001b[1;32m   (...)\u001b[0m\n\u001b[0;32m   1433\u001b[0m     \u001b[38;5;66;03m# pipe will not close when the child process exits and the\u001b[39;00m\n\u001b[0;32m   1434\u001b[0m     \u001b[38;5;66;03m# ReadFile will hang.\u001b[39;00m\n\u001b[0;32m   1435\u001b[0m     \u001b[38;5;28mself\u001b[39m\u001b[38;5;241m.\u001b[39m_close_pipe_fds(p2cread, p2cwrite,\n\u001b[0;32m   1436\u001b[0m                          c2pread, c2pwrite,\n\u001b[0;32m   1437\u001b[0m                          errread, errwrite)\n",
      "\u001b[1;31mFileNotFoundError\u001b[0m: [WinError 2] The system cannot find the file specified"
     ]
    }
   ],
   "source": [
    "ffprobing(\"C:/Users/Chase/Media/Newfolder/pythontest.mkv\")"
   ]
  },
  {
   "cell_type": "code",
   "execution_count": null,
   "id": "88548bb4",
   "metadata": {},
   "outputs": [],
   "source": []
  }
 ],
 "metadata": {
  "kernelspec": {
   "display_name": "Python 3 (ipykernel)",
   "language": "python",
   "name": "python3"
  },
  "language_info": {
   "codemirror_mode": {
    "name": "ipython",
    "version": 3
   },
   "file_extension": ".py",
   "mimetype": "text/x-python",
   "name": "python",
   "nbconvert_exporter": "python",
   "pygments_lexer": "ipython3",
   "version": "3.9.12"
  }
 },
 "nbformat": 4,
 "nbformat_minor": 5
}
