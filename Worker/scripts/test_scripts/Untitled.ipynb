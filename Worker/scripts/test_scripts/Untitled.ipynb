{
 "cells": [
  {
   "cell_type": "code",
   "execution_count": null,
   "id": "766a8902",
   "metadata": {},
   "outputs": [],
   "source": [
    "import os\n",
    "printh = 'hello'\n",
    "os.system(printh)\n",
    "sd = 'ffmpeg -loglevel 8 -stats -hide_banner -r 24 -i newtest.mkv -r 24 -i ./boil_hold/newtest.mkv -lavfi libvmaf=\"n_threads=20:n_subsample=10\" -f null -'\n",
    "os.system(sd)\n",
    "\n"
   ]
  },
  {
   "cell_type": "code",
   "execution_count": 11,
   "id": "fb65d1c4",
   "metadata": {},
   "outputs": [
    {
     "name": "stdout",
     "output_type": "stream",
     "text": [
      "Original and Encoded Files Exists\n",
      "Renaming the original file\n",
      "Moving the encoded file\n",
      "Deleting the original file\n",
      "Done\n"
     ]
    }
   ],
   "source": [
    "\n",
    "import time\n",
    "import os\n",
    "\n",
    "file = 'newtest.mkv'\n",
    "\n",
    "if os.path.exists(file):\n",
    "  #os.remove(\"demofile.txt\")\n",
    "    print('Original and Encoded Files Exists')\n",
    "    time.sleep(2)\n",
    "    print('Renaming the original file')\n",
    "    os.rename(file, 'original_' + file) \n",
    "    time.sleep(2)\n",
    "    print('Moving the encoded file')\n",
    "    os.rename('./boil_hold/' + file, file)\n",
    "    time.sleep(2)\n",
    "    print('Deleting the original file')\n",
    "    os.remove('original_' + file)\n",
    "    time.sleep(2)\n",
    "    print ('Done')    \n",
    "else:\n",
    "  print(\"The file does not exist\")"
   ]
  },
  {
   "cell_type": "code",
   "execution_count": 13,
   "id": "17681ed6",
   "metadata": {},
   "outputs": [],
   "source": []
  },
  {
   "cell_type": "code",
   "execution_count": 21,
   "id": "6c76acbd",
   "metadata": {},
   "outputs": [
    {
     "name": "stdout",
     "output_type": "stream",
     "text": [
      "Going to start scanning \n",
      "C:\\Users\\Chase\\Media\\newtest.mkv\n",
      "root is C:\\Users\\Chase\\Media\n",
      "file is newtest.mkv\n",
      "C:\\Users\\Chase\\Media\\testsrtlaopusasd.mkv\n",
      "root is C:\\Users\\Chase\\Media\n",
      "file is testsrtlaopusasd.mkv\n",
      "C:\\Users\\Chase\\Media\\Newfolder\\newtest.mkv\n",
      "root is C:\\Users\\Chase\\Media\\Newfolder\n",
      "file is newtest.mkv\n"
     ]
    }
   ],
   "source": [
    "print('Going to start scanning ')\n",
    "# traverse whole directory\n",
    "for root, dirs, files in os.walk('C:\\\\Users\\Chase\\Media'):\n",
    "    # select file name\n",
    "    for file in files:\n",
    "        # check the extension of files\n",
    "        if file.endswith('.mkv') or file.endswith('.mp4'):\n",
    "            # print whole path of files\n",
    "            print(os.path.join(root, file))\n",
    "            FILEPATH = os.path.join(root, file)\n",
    "            print ('root is ' + root)\n",
    "            print ('file is ' + file)\n",
    "            \n",
    " "
   ]
  },
  {
   "cell_type": "code",
   "execution_count": null,
   "id": "af390358",
   "metadata": {},
   "outputs": [],
   "source": []
  },
  {
   "cell_type": "code",
   "execution_count": 29,
   "id": "fcf79928",
   "metadata": {},
   "outputs": [],
   "source": [
    "import os\n",
    "import time\n",
    "file_name = 'newtest'\n",
    "input_file = \"C:\\\\Users\\\\Chase\\\\media\\\\Newfolder\\\\newtest.mkv\"\n",
    "file = \"C:\\\\Users\\\\Chase\\\\media\\\\Newfolder\\\\boil_hold\\\\\" + file_name + '.mkv'"
   ]
  },
  {
   "cell_type": "code",
   "execution_count": 34,
   "id": "bd8e931a",
   "metadata": {},
   "outputs": [
    {
     "name": "stdout",
     "output_type": "stream",
     "text": [
      ".\\boil_hold\\newtest.mkv\n",
      "C:\\Users\\Chase\\media\\Newfolder\\newtest.mkv\n",
      "C:\\Users\\Chase\\media\\Newfolder\\boil_hold\\newtest.mkv\n",
      "C:\\Users\\Chase\\media\\Newfolder\\boil_hold\\newtest.mkv\n",
      "this works\n",
      "Original and Encoded Files Exists\n",
      "Original file Size in MegaBytes is 293.1825485229492\n",
      "Encoded file Size in MegaBytes is 293.1825485229492\n",
      "Removing the original file from C:\\Users\\Chase\\media\\Newfolder\\boil_hold\\newtest.mkv\n",
      "Moving the encoded file\n"
     ]
    },
    {
     "ename": "OSError",
     "evalue": "[WinError 123] The filename, directory name, or volume label syntax is incorrect: './boil_hold/C:\\\\Users\\\\Chase\\\\media\\\\Newfolder\\\\boil_hold\\\\newtest.mkv' -> 'C:\\\\Users\\\\Chase\\\\media\\\\Newfolder\\\\boil_hold\\\\newtest.mkv'",
     "output_type": "error",
     "traceback": [
      "\u001b[1;31m---------------------------------------------------------------------------\u001b[0m",
      "\u001b[1;31mOSError\u001b[0m                                   Traceback (most recent call last)",
      "Input \u001b[1;32mIn [34]\u001b[0m, in \u001b[0;36m<cell line: 11>\u001b[1;34m()\u001b[0m\n\u001b[0;32m     20\u001b[0m     time\u001b[38;5;241m.\u001b[39msleep(\u001b[38;5;241m1\u001b[39m)\n\u001b[0;32m     21\u001b[0m     \u001b[38;5;28mprint\u001b[39m(\u001b[38;5;124m'\u001b[39m\u001b[38;5;124mMoving the encoded file\u001b[39m\u001b[38;5;124m'\u001b[39m)\n\u001b[1;32m---> 22\u001b[0m     \u001b[43mos\u001b[49m\u001b[38;5;241;43m.\u001b[39;49m\u001b[43mrename\u001b[49m\u001b[43m(\u001b[49m\u001b[38;5;124;43m'\u001b[39;49m\u001b[38;5;124;43m./boil_hold/\u001b[39;49m\u001b[38;5;124;43m'\u001b[39;49m\u001b[43m \u001b[49m\u001b[38;5;241;43m+\u001b[39;49m\u001b[43m \u001b[49m\u001b[43mfile\u001b[49m\u001b[43m,\u001b[49m\u001b[43m \u001b[49m\u001b[43mfile\u001b[49m\u001b[43m)\u001b[49m\n\u001b[0;32m     23\u001b[0m     \u001b[38;5;28mprint\u001b[39m (\u001b[38;5;124m'\u001b[39m\u001b[38;5;124mDone\u001b[39m\u001b[38;5;124m'\u001b[39m)    \n\u001b[0;32m     24\u001b[0m \u001b[38;5;28;01melse\u001b[39;00m:\n",
      "\u001b[1;31mOSError\u001b[0m: [WinError 123] The filename, directory name, or volume label syntax is incorrect: './boil_hold/C:\\\\Users\\\\Chase\\\\media\\\\Newfolder\\\\boil_hold\\\\newtest.mkv' -> 'C:\\\\Users\\\\Chase\\\\media\\\\Newfolder\\\\boil_hold\\\\newtest.mkv'"
     ]
    }
   ],
   "source": [
    "print('.\\\\boil_hold\\\\' + file_name + '.mkv')\n",
    "print(input_file)\n",
    "print (file)\n",
    "print(\"C:\\\\Users\\\\Chase\\\\media\\\\Newfolder\\\\boil_hold\\\\\" + file_name + '.mkv')\n",
    "\n",
    "if os.path.exists(\"C:\\\\Users\\\\Chase\\\\media\\\\Newfolder\\\\boil_hold\\\\\" + file_name + '.mkv'):\n",
    "    print ('this works')\n",
    "else:\n",
    "    print ('this does not work')\n",
    "\n",
    "if os.path.exists(\"C:\\\\Users\\\\Chase\\\\media\\\\Newfolder\\\\boil_hold\\\\\" + file_name + '.mkv') and os.path.exists(input_file):\n",
    "    print('Original and Encoded Files Exists')\n",
    "    time.sleep(1)\n",
    "    file_stats = os.stat(input_file)\n",
    "    print(f'Original file Size in MegaBytes is {file_stats.st_size / (1024 * 1024)}') \n",
    "    file_stats2 = os.stat(\"C:\\\\Users\\\\Chase\\\\media\\\\Newfolder\\\\boil_hold\\\\\"+ file_name + '.mkv')\n",
    "    print(f'Encoded file Size in MegaBytes is {file_stats2.st_size / (1024 * 1024)}') \n",
    "    print('Removing the original file from ' + file)\n",
    "    os.remove(file) \n",
    "    time.sleep(1)\n",
    "    print('Moving the encoded file')\n",
    "    os.rename('./boil_hold/' + file, file)\n",
    "    print ('Done')    \n",
    "else:\n",
    "     print(\"Something Broke\")"
   ]
  },
  {
   "cell_type": "code",
   "execution_count": 13,
   "id": "c6f961b3",
   "metadata": {},
   "outputs": [],
   "source": [
    "from celery import Celery\n",
    "import os\n",
    "import subprocess\n",
    "import shlex\n",
    "import json\n",
    "from pathlib import Path"
   ]
  },
  {
   "cell_type": "code",
   "execution_count": 5,
   "id": "82dcdcda",
   "metadata": {},
   "outputs": [
    {
     "name": "stdout",
     "output_type": "stream",
     "text": [
      "file name is: /boil_hold/test.mkv\n"
     ]
    }
   ],
   "source": [
    "input_file = 'test.mkv'\n",
    "\n",
    "file_name = Path(input_file).stem\n",
    "file_name = '/boil_hold/' + file_name + '.mkv'\n",
    "print ('file name is: ' + file_name)"
   ]
  },
  {
   "cell_type": "code",
   "execution_count": 6,
   "id": "9b2193ff",
   "metadata": {},
   "outputs": [],
   "source": [
    "import subprocess"
   ]
  },
  {
   "cell_type": "code",
   "execution_count": 9,
   "id": "737d9a6d",
   "metadata": {},
   "outputs": [
    {
     "data": {
      "text/plain": [
       "1"
      ]
     },
     "execution_count": 9,
     "metadata": {},
     "output_type": "execute_result"
    }
   ],
   "source": [
    "scommand = \"ffmpeg -hide_banner -loglevel 16 -stats -i ./A Certain Scientific Railgun - S00E02 - MMR II - Much More Railgun II.mkv -c:v libsvtav1 -crf 20 -preset 4 -g 240 -pix_fmt yuv420p10le -c:a libopus -c:s srt /boil_hold/A Certain Scientific Railgun - S00E02 - MMR II - Much More Railgun II.mkv\"\n",
    "subprocess.call(scommand)            "
   ]
  },
  {
   "cell_type": "code",
   "execution_count": 25,
   "id": "9b3a12cd",
   "metadata": {},
   "outputs": [],
   "source": [
    "input_file = \"tes st.mkv\""
   ]
  },
  {
   "cell_type": "code",
   "execution_count": 26,
   "id": "7f6f9270",
   "metadata": {},
   "outputs": [
    {
     "name": "stdout",
     "output_type": "stream",
     "text": [
      "file name is:\"boil_hold/tes st.mkv\"\n"
     ]
    }
   ],
   "source": [
    "file_name = Path(input_file).stem\n",
    "file_name = '\"boil_hold/' + file_name + '.mkv\"'\n",
    "print ('file name is:' + file_name)"
   ]
  },
  {
   "cell_type": "code",
   "execution_count": 13,
   "id": "82eebe99",
   "metadata": {},
   "outputs": [
    {
     "name": "stdout",
     "output_type": "stream",
     "text": [
      "Accel World - S00E04 - Achel World 3.mkv exists\n"
     ]
    }
   ],
   "source": [
    "import os\n",
    "file = \"Accel World - S00E04 - Achel World 3.mkv\"\n",
    "if os.path.exists(file):\n",
    "    print (file + ' exists')\n",
    "else:\n",
    "    print (file + ' does not exist')\n",
    "\n",
    "\n"
   ]
  },
  {
   "cell_type": "code",
   "execution_count": 7,
   "id": "4eae898c",
   "metadata": {},
   "outputs": [
    {
     "name": "stdout",
     "output_type": "stream",
     "text": [
      " + file_name + \n"
     ]
    }
   ],
   "source": [
    "file_name = 'blll'\n",
    "file_name = ''' + file_name + '''\n",
    "print (file_name)"
   ]
  },
  {
   "cell_type": "code",
   "execution_count": null,
   "id": "ee1b9728",
   "metadata": {},
   "outputs": [],
   "source": []
  }
 ],
 "metadata": {
  "kernelspec": {
   "display_name": "Python 3 (ipykernel)",
   "language": "python",
   "name": "python3"
  },
  "language_info": {
   "codemirror_mode": {
    "name": "ipython",
    "version": 3
   },
   "file_extension": ".py",
   "mimetype": "text/x-python",
   "name": "python",
   "nbconvert_exporter": "python",
   "pygments_lexer": "ipython3",
   "version": "3.9.12"
  }
 },
 "nbformat": 4,
 "nbformat_minor": 5
}
