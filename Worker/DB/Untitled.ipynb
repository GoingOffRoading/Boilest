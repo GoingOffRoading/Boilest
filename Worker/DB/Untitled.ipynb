{
 "cells": [
  {
   "cell_type": "code",
   "execution_count": 10,
   "id": "cc95ba50",
   "metadata": {},
   "outputs": [
    {
     "name": "stdout",
     "output_type": "stream",
     "text": [
      "Collecting pysqlite\n",
      "  Downloading pysqlite-2.8.3.tar.gz (80 kB)\n",
      "  Downloading pysqlite-2.8.2.tar.gz (79 kB)\n",
      "  Downloading pysqlite-2.8.1.tar.gz (79 kB)"
     ]
    },
    {
     "name": "stderr",
     "output_type": "stream",
     "text": [
      "    ERROR: Command errored out with exit status 1:\n",
      "     command: 'C:\\Users\\Chase\\anaconda3\\python.exe' -c 'import io, os, sys, setuptools, tokenize; sys.argv[0] = '\"'\"'C:\\\\Users\\\\Chase\\\\AppData\\\\Local\\\\Temp\\\\pip-install-nvm49b78\\\\pysqlite_9a1c71a320504bfaaab9681162ee1b44\\\\setup.py'\"'\"'; __file__='\"'\"'C:\\\\Users\\\\Chase\\\\AppData\\\\Local\\\\Temp\\\\pip-install-nvm49b78\\\\pysqlite_9a1c71a320504bfaaab9681162ee1b44\\\\setup.py'\"'\"';f = getattr(tokenize, '\"'\"'open'\"'\"', open)(__file__) if os.path.exists(__file__) else io.StringIO('\"'\"'from setuptools import setup; setup()'\"'\"');code = f.read().replace('\"'\"'\\r\\n'\"'\"', '\"'\"'\\n'\"'\"');f.close();exec(compile(code, __file__, '\"'\"'exec'\"'\"'))' egg_info --egg-base 'C:\\Users\\Chase\\AppData\\Local\\Temp\\pip-pip-egg-info-smneafmh'\n",
      "         cwd: C:\\Users\\Chase\\AppData\\Local\\Temp\\pip-install-nvm49b78\\pysqlite_9a1c71a320504bfaaab9681162ee1b44\\\n",
      "    Complete output (1 lines):\n",
      "    pysqlite is not supported on Python 3. When using Python 3, use the sqlite3 module from the standard library.\n",
      "    ----------------------------------------\n",
      "WARNING: Discarding https://files.pythonhosted.org/packages/42/02/981b6703e3c83c5b25a829c6e77aad059f9481b0bbacb47e6e8ca12bd731/pysqlite-2.8.3.tar.gz#sha256=17d3335863e8cf8392eea71add33dab3f96d060666fe68ab7382469d307f4490 (from https://pypi.org/simple/pysqlite/). Command errored out with exit status 1: python setup.py egg_info Check the logs for full command output.\n",
      "    ERROR: Command errored out with exit status 1:\n",
      "     command: 'C:\\Users\\Chase\\anaconda3\\python.exe' -c 'import io, os, sys, setuptools, tokenize; sys.argv[0] = '\"'\"'C:\\\\Users\\\\Chase\\\\AppData\\\\Local\\\\Temp\\\\pip-install-nvm49b78\\\\pysqlite_2d66265f01da43ca9cd8447d8eb989d8\\\\setup.py'\"'\"'; __file__='\"'\"'C:\\\\Users\\\\Chase\\\\AppData\\\\Local\\\\Temp\\\\pip-install-nvm49b78\\\\pysqlite_2d66265f01da43ca9cd8447d8eb989d8\\\\setup.py'\"'\"';f = getattr(tokenize, '\"'\"'open'\"'\"', open)(__file__) if os.path.exists(__file__) else io.StringIO('\"'\"'from setuptools import setup; setup()'\"'\"');code = f.read().replace('\"'\"'\\r\\n'\"'\"', '\"'\"'\\n'\"'\"');f.close();exec(compile(code, __file__, '\"'\"'exec'\"'\"'))' egg_info --egg-base 'C:\\Users\\Chase\\AppData\\Local\\Temp\\pip-pip-egg-info-ahppkajx'\n",
      "         cwd: C:\\Users\\Chase\\AppData\\Local\\Temp\\pip-install-nvm49b78\\pysqlite_2d66265f01da43ca9cd8447d8eb989d8\\\n",
      "    Complete output (1 lines):\n",
      "    pysqlite is not supported on Python 3. When using Python 3, use the sqlite3 module from the standard library.\n",
      "    ----------------------------------------\n",
      "WARNING: Discarding https://files.pythonhosted.org/packages/cc/a4/023ee9dba54b3cf0c5a4d0fb2f1ad80332ef23549dd4b551a9f2cbe88786/pysqlite-2.8.2.tar.gz#sha256=613d139e97ce0561dee312e29f3be4751d01fd1a085aa448dd53a003810e0008 (from https://pypi.org/simple/pysqlite/). Command errored out with exit status 1: python setup.py egg_info Check the logs for full command output.\n",
      "    ERROR: Command errored out with exit status 1:\n",
      "     command: 'C:\\Users\\Chase\\anaconda3\\python.exe' -c 'import io, os, sys, setuptools, tokenize; sys.argv[0] = '\"'\"'C:\\\\Users\\\\Chase\\\\AppData\\\\Local\\\\Temp\\\\pip-install-nvm49b78\\\\pysqlite_87fac15eabd94a7e867e4dc0ba071273\\\\setup.py'\"'\"'; __file__='\"'\"'C:\\\\Users\\\\Chase\\\\AppData\\\\Local\\\\Temp\\\\pip-install-nvm49b78\\\\pysqlite_87fac15eabd94a7e867e4dc0ba071273\\\\setup.py'\"'\"';f = getattr(tokenize, '\"'\"'open'\"'\"', open)(__file__) if os.path.exists(__file__) else io.StringIO('\"'\"'from setuptools import setup; setup()'\"'\"');code = f.read().replace('\"'\"'\\r\\n'\"'\"', '\"'\"'\\n'\"'\"');f.close();exec(compile(code, __file__, '\"'\"'exec'\"'\"'))' egg_info --egg-base 'C:\\Users\\Chase\\AppData\\Local\\Temp\\pip-pip-egg-info-m6jq771x'\n",
      "         cwd: C:\\Users\\Chase\\AppData\\Local\\Temp\\pip-install-nvm49b78\\pysqlite_87fac15eabd94a7e867e4dc0ba071273\\\n",
      "    Complete output (1 lines):\n",
      "    pysqlite is not supported on Python 3. When using Python 3, use the sqlite3 module from the standard library.\n",
      "    ----------------------------------------\n",
      "WARNING: Discarding https://files.pythonhosted.org/packages/65/07/604a3982a673cab4fe78debab8b83d3cb96d00d73472199ee0ee8315c3da/pysqlite-2.8.1.tar.gz#sha256=75cae18f9646f2a6137e1fb5302dba674b6982eeab3a2829377e98b13cfea066 (from https://pypi.org/simple/pysqlite/). Command errored out with exit status 1: python setup.py egg_info Check the logs for full command output.\n",
      "    ERROR: Command errored out with exit status 1:\n",
      "     command: 'C:\\Users\\Chase\\anaconda3\\python.exe' -c 'import io, os, sys, setuptools, tokenize; sys.argv[0] = '\"'\"'C:\\\\Users\\\\Chase\\\\AppData\\\\Local\\\\Temp\\\\pip-install-nvm49b78\\\\pysqlite_c078b3f93a674abcb1ac1675c9206d05\\\\setup.py'\"'\"'; __file__='\"'\"'C:\\\\Users\\\\Chase\\\\AppData\\\\Local\\\\Temp\\\\pip-install-nvm49b78\\\\pysqlite_c078b3f93a674abcb1ac1675c9206d05\\\\setup.py'\"'\"';f = getattr(tokenize, '\"'\"'open'\"'\"', open)(__file__) if os.path.exists(__file__) else io.StringIO('\"'\"'from setuptools import setup; setup()'\"'\"');code = f.read().replace('\"'\"'\\r\\n'\"'\"', '\"'\"'\\n'\"'\"');f.close();exec(compile(code, __file__, '\"'\"'exec'\"'\"'))' egg_info --egg-base 'C:\\Users\\Chase\\AppData\\Local\\Temp\\pip-pip-egg-info-4nsfogd0'\n",
      "         cwd: C:\\Users\\Chase\\AppData\\Local\\Temp\\pip-install-nvm49b78\\pysqlite_c078b3f93a674abcb1ac1675c9206d05\\\n",
      "    Complete output (1 lines):\n",
      "    pysqlite is not supported on Python 3. When using Python 3, use the sqlite3 module from the standard library.\n",
      "    ----------------------------------------\n",
      "WARNING: Discarding https://files.pythonhosted.org/packages/af/1c/f1820bce01c1bc1750caee75d12948ec180429ef2ecc7bf2dc9479a9424d/pysqlite-2.8.0.tar.gz#sha256=9d87fc5efc61bf790619ff0e398ac3c73411a7ba5bf88802fdeba07229860674 (from https://pypi.org/simple/pysqlite/). Command errored out with exit status 1: python setup.py egg_info Check the logs for full command output.\n",
      "    ERROR: Command errored out with exit status 1:\n",
      "     command: 'C:\\Users\\Chase\\anaconda3\\python.exe' -c 'import io, os, sys, setuptools, tokenize; sys.argv[0] = '\"'\"'C:\\\\Users\\\\Chase\\\\AppData\\\\Local\\\\Temp\\\\pip-install-nvm49b78\\\\pysqlite_7b0e4e394df94da8af628de6a80485c5\\\\setup.py'\"'\"'; __file__='\"'\"'C:\\\\Users\\\\Chase\\\\AppData\\\\Local\\\\Temp\\\\pip-install-nvm49b78\\\\pysqlite_7b0e4e394df94da8af628de6a80485c5\\\\setup.py'\"'\"';f = getattr(tokenize, '\"'\"'open'\"'\"', open)(__file__) if os.path.exists(__file__) else io.StringIO('\"'\"'from setuptools import setup; setup()'\"'\"');code = f.read().replace('\"'\"'\\r\\n'\"'\"', '\"'\"'\\n'\"'\"');f.close();exec(compile(code, __file__, '\"'\"'exec'\"'\"'))' egg_info --egg-base 'C:\\Users\\Chase\\AppData\\Local\\Temp\\pip-pip-egg-info-m8h5cbt0'\n",
      "         cwd: C:\\Users\\Chase\\AppData\\Local\\Temp\\pip-install-nvm49b78\\pysqlite_7b0e4e394df94da8af628de6a80485c5\\\n",
      "    Complete output (6 lines):\n",
      "    Traceback (most recent call last):\n",
      "      File \"<string>\", line 1, in <module>\n",
      "      File \"C:\\Users\\Chase\\AppData\\Local\\Temp\\pip-install-nvm49b78\\pysqlite_7b0e4e394df94da8af628de6a80485c5\\setup.py\", line 103\n",
      "        print \"Is sphinx installed? If not, try 'sudo pip sphinx'.\"\n",
      "              ^\n",
      "    SyntaxError: Missing parentheses in call to 'print'. Did you mean print(\"Is sphinx installed? If not, try 'sudo pip sphinx'.\")?\n",
      "    ----------------------------------------\n",
      "WARNING: Discarding https://files.pythonhosted.org/packages/81/08/4de886dc16aaf99b5466c2b8b7aa4d1b79fd52f557ae52c04a293b712389/pysqlite-2.7.0.tar.gz#sha256=0ebdb5feff4e55ac02ec046e66c9d4f8fafa18f6d1eb620b4460c2b9300c7486 (from https://pypi.org/simple/pysqlite/). Command errored out with exit status 1: python setup.py egg_info Check the logs for full command output.\n",
      "    ERROR: Command errored out with exit status 1:\n",
      "     command: 'C:\\Users\\Chase\\anaconda3\\python.exe' -c 'import io, os, sys, setuptools, tokenize; sys.argv[0] = '\"'\"'C:\\\\Users\\\\Chase\\\\AppData\\\\Local\\\\Temp\\\\pip-install-nvm49b78\\\\pysqlite_7efc4752f50f4edcaa47802181b07c1c\\\\setup.py'\"'\"'; __file__='\"'\"'C:\\\\Users\\\\Chase\\\\AppData\\\\Local\\\\Temp\\\\pip-install-nvm49b78\\\\pysqlite_7efc4752f50f4edcaa47802181b07c1c\\\\setup.py'\"'\"';f = getattr(tokenize, '\"'\"'open'\"'\"', open)(__file__) if os.path.exists(__file__) else io.StringIO('\"'\"'from setuptools import setup; setup()'\"'\"');code = f.read().replace('\"'\"'\\r\\n'\"'\"', '\"'\"'\\n'\"'\"');f.close();exec(compile(code, __file__, '\"'\"'exec'\"'\"'))' egg_info --egg-base 'C:\\Users\\Chase\\AppData\\Local\\Temp\\pip-pip-egg-info-eby72m16'\n",
      "         cwd: C:\\Users\\Chase\\AppData\\Local\\Temp\\pip-install-nvm49b78\\pysqlite_7efc4752f50f4edcaa47802181b07c1c\\\n",
      "    Complete output (6 lines):\n",
      "    Traceback (most recent call last):\n",
      "      File \"<string>\", line 1, in <module>\n",
      "      File \"C:\\Users\\Chase\\AppData\\Local\\Temp\\pip-install-nvm49b78\\pysqlite_7efc4752f50f4edcaa47802181b07c1c\\setup.py\", line 85\n",
      "        print \"Is sphinx installed? If not, try 'sudo easy_install sphinx'.\"\n",
      "              ^\n",
      "    SyntaxError: Missing parentheses in call to 'print'. Did you mean print(\"Is sphinx installed? If not, try 'sudo easy_install sphinx'.\")?\n",
      "    ----------------------------------------\n",
      "WARNING: Discarding https://files.pythonhosted.org/packages/5c/a6/1c429cd4c8069cf4bfbd0eb4d592b3f4042155a8202df83d7e9b93aa3dc2/pysqlite-2.6.3.tar.gz#sha256=fe9c35216bf56c858b34c4b4c8be7e34566ddef29670e5a5b43f9cb8ecfbb28d (from https://pypi.org/simple/pysqlite/). Command errored out with exit status 1: python setup.py egg_info Check the logs for full command output.\n",
      "    ERROR: Command errored out with exit status 1:\n",
      "     command: 'C:\\Users\\Chase\\anaconda3\\python.exe' -c 'import io, os, sys, setuptools, tokenize; sys.argv[0] = '\"'\"'C:\\\\Users\\\\Chase\\\\AppData\\\\Local\\\\Temp\\\\pip-install-nvm49b78\\\\pysqlite_570776f096644d3e8acfb954858ce953\\\\setup.py'\"'\"'; __file__='\"'\"'C:\\\\Users\\\\Chase\\\\AppData\\\\Local\\\\Temp\\\\pip-install-nvm49b78\\\\pysqlite_570776f096644d3e8acfb954858ce953\\\\setup.py'\"'\"';f = getattr(tokenize, '\"'\"'open'\"'\"', open)(__file__) if os.path.exists(__file__) else io.StringIO('\"'\"'from setuptools import setup; setup()'\"'\"');code = f.read().replace('\"'\"'\\r\\n'\"'\"', '\"'\"'\\n'\"'\"');f.close();exec(compile(code, __file__, '\"'\"'exec'\"'\"'))' egg_info --egg-base 'C:\\Users\\Chase\\AppData\\Local\\Temp\\pip-pip-egg-info-kxjjvhqv'\n",
      "         cwd: C:\\Users\\Chase\\AppData\\Local\\Temp\\pip-install-nvm49b78\\pysqlite_570776f096644d3e8acfb954858ce953\\\n",
      "    Complete output (6 lines):\n",
      "    Traceback (most recent call last):\n",
      "      File \"<string>\", line 1, in <module>\n",
      "      File \"C:\\Users\\Chase\\AppData\\Local\\Temp\\pip-install-nvm49b78\\pysqlite_570776f096644d3e8acfb954858ce953\\setup.py\", line 80\n",
      "        print \"Is sphinx installed? If not, try 'sudo easy_install sphinx'.\"\n",
      "              ^\n",
      "    SyntaxError: Missing parentheses in call to 'print'. Did you mean print(\"Is sphinx installed? If not, try 'sudo easy_install sphinx'.\")?\n",
      "    ----------------------------------------\n",
      "WARNING: Discarding https://files.pythonhosted.org/packages/40/bb/3224c65ad852f8e8d8956f9e816dee6449dab785763882165579f92c4544/pysqlite-2.6.0.tar.gz#sha256=354290bd1b18bb69e11946b2d913fd9b15c2a4aa7de2e8565d299492db773721 (from https://pypi.org/simple/pysqlite/). Command errored out with exit status 1: python setup.py egg_info Check the logs for full command output.\n",
      "    ERROR: Command errored out with exit status 1:\n",
      "     command: 'C:\\Users\\Chase\\anaconda3\\python.exe' -c 'import io, os, sys, setuptools, tokenize; sys.argv[0] = '\"'\"'C:\\\\Users\\\\Chase\\\\AppData\\\\Local\\\\Temp\\\\pip-install-nvm49b78\\\\pysqlite_1b86852ce12c44ff8d2ddd31c0b249d2\\\\setup.py'\"'\"'; __file__='\"'\"'C:\\\\Users\\\\Chase\\\\AppData\\\\Local\\\\Temp\\\\pip-install-nvm49b78\\\\pysqlite_1b86852ce12c44ff8d2ddd31c0b249d2\\\\setup.py'\"'\"';f = getattr(tokenize, '\"'\"'open'\"'\"', open)(__file__) if os.path.exists(__file__) else io.StringIO('\"'\"'from setuptools import setup; setup()'\"'\"');code = f.read().replace('\"'\"'\\r\\n'\"'\"', '\"'\"'\\n'\"'\"');f.close();exec(compile(code, __file__, '\"'\"'exec'\"'\"'))' egg_info --egg-base 'C:\\Users\\Chase\\AppData\\Local\\Temp\\pip-pip-egg-info-5e8u6qkc'\n",
      "         cwd: C:\\Users\\Chase\\AppData\\Local\\Temp\\pip-install-nvm49b78\\pysqlite_1b86852ce12c44ff8d2ddd31c0b249d2\\\n",
      "    Complete output (6 lines):\n",
      "    Traceback (most recent call last):\n",
      "      File \"<string>\", line 1, in <module>\n",
      "      File \"C:\\Users\\Chase\\AppData\\Local\\Temp\\pip-install-nvm49b78\\pysqlite_1b86852ce12c44ff8d2ddd31c0b249d2\\setup.py\", line 80\n",
      "        print \"Is sphinx installed? If not, try 'sudo easy_install sphinx'.\"\n",
      "              ^\n",
      "    SyntaxError: Missing parentheses in call to 'print'. Did you mean print(\"Is sphinx installed? If not, try 'sudo easy_install sphinx'.\")?\n",
      "    ----------------------------------------\n",
      "WARNING: Discarding https://files.pythonhosted.org/packages/00/09/e243c7b117629127cf6666ace041870a0c6b1f7e8fa8737ba2de36dff342/pysqlite-2.5.6.tar.gz#sha256=108febfe37a1722b812f94d0398e806ec70aedd07bf13d0c98534b850b5cac24 (from https://pypi.org/simple/pysqlite/). Command errored out with exit status 1: python setup.py egg_info Check the logs for full command output.\n",
      "ERROR: Could not find a version that satisfies the requirement pysqlite (from versions: 2.5.6, 2.6.0, 2.6.3, 2.7.0, 2.8.0, 2.8.1, 2.8.2, 2.8.3)\n",
      "ERROR: No matching distribution found for pysqlite\n"
     ]
    },
    {
     "name": "stdout",
     "output_type": "stream",
     "text": [
      "\n",
      "  Downloading pysqlite-2.8.0.tar.gz (80 kB)\n",
      "  Downloading pysqlite-2.7.0.tar.gz (79 kB)\n",
      "  Downloading pysqlite-2.6.3.tar.gz (76 kB)\n",
      "  Downloading pysqlite-2.6.0.tar.gz (74 kB)\n",
      "  Downloading pysqlite-2.5.6.tar.gz (72 kB)\n"
     ]
    }
   ],
   "source": [
    "!pip install pysqlite"
   ]
  },
  {
   "cell_type": "code",
   "execution_count": 16,
   "id": "34259bac",
   "metadata": {},
   "outputs": [
    {
     "name": "stdout",
     "output_type": "stream",
     "text": [
      "first\n",
      "2.6.0\n"
     ]
    }
   ],
   "source": [
    "import sqlite3\n",
    "from sqlite3 import Error\n",
    "def create_connection(db_file):\n",
    "    \"\"\" create a database connection to a SQLite database \"\"\"\n",
    "    conn = None\n",
    "    try:\n",
    "        conn = sqlite3.connect(db_file)\n",
    "        print ('first')\n",
    "        print(sqlite3.version)\n",
    "    except Error as e:\n",
    "        print(e)\n",
    "        print ('second')\n",
    "    finally:\n",
    "        if conn:\n",
    "            conn.close()\n",
    "\n",
    "\n",
    "if __name__ == '__main__':\n",
    "    create_connection(r\"C:\\sqlite\\db\\pythonsqlite.db\")"
   ]
  },
  {
   "cell_type": "code",
   "execution_count": 4,
   "id": "c20f69ac",
   "metadata": {},
   "outputs": [
    {
     "name": "stderr",
     "output_type": "stream",
     "text": [
      "ERROR: Could not find a version that satisfies the requirement sqlite3 (from versions: none)\n",
      "ERROR: No matching distribution found for sqlite3\n"
     ]
    }
   ],
   "source": [
    "import sqlite3\n",
    "\n",
    "database = r\"C:\\sqlite\\db\\pythonsqlite.db\"\n",
    "sql_create_results_table = \"\"\" CREATE TABLE IF NOT EXISTS results (\n",
    "                                    id integer PRIMARY KEY,\n",
    "                                    name text NOT NULL,\n",
    "                                    begin_date text,\n",
    "                                    end_date text\n",
    "                                ); \"\"\"\n"
   ]
  },
  {
   "cell_type": "code",
   "execution_count": null,
   "id": "f7a8efd0",
   "metadata": {},
   "outputs": [],
   "source": []
  }
 ],
 "metadata": {
  "kernelspec": {
   "display_name": "Python 3 (ipykernel)",
   "language": "python",
   "name": "python3"
  },
  "language_info": {
   "codemirror_mode": {
    "name": "ipython",
    "version": 3
   },
   "file_extension": ".py",
   "mimetype": "text/x-python",
   "name": "python",
   "nbconvert_exporter": "python",
   "pygments_lexer": "ipython3",
   "version": "3.9.12"
  }
 },
 "nbformat": 4,
 "nbformat_minor": 5
}
