{
 "cells": [
  {
   "cell_type": "code",
   "execution_count": 10,
   "id": "849db95a",
   "metadata": {},
   "outputs": [
    {
     "name": "stdout",
     "output_type": "stream",
     "text": [
      "Boilest.db does not exist, creating now\n"
     ]
    }
   ],
   "source": [
    "import os.path, sqlite3\n",
    "\n",
    "if os.path.exists(\"./boilest.db\"):\n",
    "    print ('Boilest.db exists')\n",
    "else:\n",
    "    print ('Boilest.db does not exist, creating now')\n",
    "    database = r\".\\Boilest.db\"\n",
    "    \n",
    "    sql_create_results_table = \"\"\" CREATE TABLE IF NOT EXISTS ffencode_results (\n",
    "                                        unique_identifier TEXT PRIMARY KEY,\n",
    "                                        recorded_date TEXT,\n",
    "                                        file_name TEXT,\n",
    "                                        file_path TEXT,\n",
    "                                        config_name TEXT,\n",
    "                                        new_file_size REAL,\n",
    "                                        new_file_size_difference REAL, \n",
    "                                        old_file_size REAL,\n",
    "                                        watch_folder TEXT,\n",
    "                                        ffmpeg_encoding_string TEXT\n",
    "                                    ); \"\"\"\n",
    "\n",
    "    # create a database connection\n",
    "    conn = create_connection(database)\n",
    "\n",
    "    # create tables\n",
    "    if conn is not None:\n",
    "        # create projects table\n",
    "        create_table(conn, sql_create_results_table)\n",
    "        conn.close()           \n",
    "    else:\n",
    "        print(\"Error! cannot create the database connection.\")\n",
    "\n",
    "def create_connection(db_file):\n",
    "    \"\"\" create a database connection to the SQLite database\n",
    "        specified by db_file\n",
    "    :param db_file: database file\n",
    "    :return: Connection object or None\n",
    "    \"\"\"\n",
    "    conn = None\n",
    "    try:\n",
    "        conn = sqlite3.connect(db_file)\n",
    "        return conn\n",
    "    except Error as e:\n",
    "        print(e)\n",
    "\n",
    "    return conn\n",
    "\n",
    "\n",
    "def create_table(conn, create_table_sql):\n",
    "    \"\"\" create a table from the create_table_sql statement\n",
    "    :param conn: Connection object\n",
    "    :param create_table_sql: a CREATE TABLE statement\n",
    "    :return:\n",
    "    \"\"\"\n",
    "    try:\n",
    "        c = conn.cursor()\n",
    "        c.execute(create_table_sql)\n",
    "        \n",
    "    except Error as e:\n",
    "        print(e)"
   ]
  },
  {
   "cell_type": "code",
   "execution_count": null,
   "id": "7ac6ab3f",
   "metadata": {},
   "outputs": [],
   "source": []
  }
 ],
 "metadata": {
  "kernelspec": {
   "display_name": "Python 3 (ipykernel)",
   "language": "python",
   "name": "python3"
  },
  "language_info": {
   "codemirror_mode": {
    "name": "ipython",
    "version": 3
   },
   "file_extension": ".py",
   "mimetype": "text/x-python",
   "name": "python",
   "nbconvert_exporter": "python",
   "pygments_lexer": "ipython3",
   "version": "3.9.12"
  }
 },
 "nbformat": 4,
 "nbformat_minor": 5
}
