{
 "cells": [
  {
   "cell_type": "code",
   "execution_count": 3,
   "id": "bb2f0aaa",
   "metadata": {},
   "outputs": [
    {
     "name": "stdout",
     "output_type": "stream",
     "text": [
      "Requirement already satisfied: ffprobe in c:\\users\\chase\\anaconda3\\lib\\site-packages (0.5)\n",
      "Requirement already satisfied: python-magic in c:\\users\\chase\\anaconda3\\lib\\site-packages (0.4.27)\n",
      "Requirement already satisfied: pyxdg in c:\\users\\chase\\anaconda3\\lib\\site-packages (0.28)\n",
      "Note: you may need to restart the kernel to use updated packages.\n"
     ]
    }
   ],
   "source": [
    "pip install ffprobe python-magic pyxdg"
   ]
  },
  {
   "cell_type": "code",
   "execution_count": 4,
   "id": "54217d0f",
   "metadata": {},
   "outputs": [
    {
     "ename": "ImportError",
     "evalue": "failed to find libmagic.  Check your installation",
     "output_type": "error",
     "traceback": [
      "\u001b[1;31m---------------------------------------------------------------------------\u001b[0m",
      "\u001b[1;31mImportError\u001b[0m                               Traceback (most recent call last)",
      "Input \u001b[1;32mIn [4]\u001b[0m, in \u001b[0;36m<cell line: 4>\u001b[1;34m()\u001b[0m\n\u001b[0;32m      2\u001b[0m \u001b[38;5;28;01mimport\u001b[39;00m \u001b[38;5;21;01mglob\u001b[39;00m\n\u001b[0;32m      3\u001b[0m \u001b[38;5;28;01mimport\u001b[39;00m \u001b[38;5;21;01msubprocess\u001b[39;00m\n\u001b[1;32m----> 4\u001b[0m \u001b[38;5;28;01mimport\u001b[39;00m \u001b[38;5;21;01mmagic\u001b[39;00m\n\u001b[0;32m      5\u001b[0m \u001b[38;5;28;01mfrom\u001b[39;00m \u001b[38;5;21;01mxdg\u001b[39;00m \u001b[38;5;28;01mimport\u001b[39;00m BaseDirectory\n\u001b[0;32m      7\u001b[0m \u001b[38;5;28;01mdef\u001b[39;00m \u001b[38;5;21mget_ffprobe_path\u001b[39m():\n\u001b[0;32m      8\u001b[0m     \u001b[38;5;66;03m# Get the path to the ffprobe executable\u001b[39;00m\n",
      "File \u001b[1;32m~\\anaconda3\\lib\\site-packages\\magic\\__init__.py:209\u001b[0m, in \u001b[0;36m<module>\u001b[1;34m\u001b[0m\n\u001b[0;32m    206\u001b[0m     \u001b[38;5;28;01mreturn\u001b[39;00m m\u001b[38;5;241m.\u001b[39mfrom_descriptor(fd)\n\u001b[0;32m    208\u001b[0m \u001b[38;5;28;01mfrom\u001b[39;00m \u001b[38;5;21;01m.\u001b[39;00m \u001b[38;5;28;01mimport\u001b[39;00m loader\n\u001b[1;32m--> 209\u001b[0m libmagic \u001b[38;5;241m=\u001b[39m \u001b[43mloader\u001b[49m\u001b[38;5;241;43m.\u001b[39;49m\u001b[43mload_lib\u001b[49m\u001b[43m(\u001b[49m\u001b[43m)\u001b[49m\n\u001b[0;32m    211\u001b[0m magic_t \u001b[38;5;241m=\u001b[39m ctypes\u001b[38;5;241m.\u001b[39mc_void_p\n\u001b[0;32m    214\u001b[0m \u001b[38;5;28;01mdef\u001b[39;00m \u001b[38;5;21merrorcheck_null\u001b[39m(result, func, args):\n",
      "File \u001b[1;32m~\\anaconda3\\lib\\site-packages\\magic\\loader.py:49\u001b[0m, in \u001b[0;36mload_lib\u001b[1;34m()\u001b[0m\n\u001b[0;32m     46\u001b[0m     \u001b[38;5;28;01mpass\u001b[39;00m\n\u001b[0;32m     47\u001b[0m \u001b[38;5;28;01melse\u001b[39;00m:\n\u001b[0;32m     48\u001b[0m   \u001b[38;5;66;03m# It is better to raise an ImportError since we are importing magic module\u001b[39;00m\n\u001b[1;32m---> 49\u001b[0m   \u001b[38;5;28;01mraise\u001b[39;00m \u001b[38;5;167;01mImportError\u001b[39;00m(\u001b[38;5;124m'\u001b[39m\u001b[38;5;124mfailed to find libmagic.  Check your installation\u001b[39m\u001b[38;5;124m'\u001b[39m)\n",
      "\u001b[1;31mImportError\u001b[0m: failed to find libmagic.  Check your installation"
     ]
    }
   ],
   "source": [
    "import os\n",
    "import glob\n",
    "import subprocess\n",
    "import magic\n",
    "from xdg import BaseDirectory\n",
    "\n",
    "def get_ffprobe_path():\n",
    "    # Get the path to the ffprobe executable\n",
    "    paths = [os.path.join(path, 'ffprobe') for path in BaseDirectory.get_search_paths('bin')]\n",
    "    return next((path for path in paths if os.path.exists(path)), None)\n",
    "\n",
    "def get_file_type(file_path):\n",
    "    # Get the MIME type of the file\n",
    "    mime = magic.Magic(mime=True)\n",
    "    return mime.from_file(file_path)\n",
    "\n",
    "def get_codec_info(file_path):\n",
    "    # Use ffprobe to get codec information\n",
    "    ffprobe_path = get_ffprobe_path()\n",
    "    if not ffprobe_path:\n",
    "        raise RuntimeError(\"ffprobe not found. Please make sure you have ffmpeg installed.\")\n",
    "    \n",
    "    try:\n",
    "        cmd = [ffprobe_path, '-v', 'error', '-show_entries', 'stream=codec_name', '-of', 'default=noprint_wrappers=1', file_path]\n",
    "        output = subprocess.check_output(cmd, universal_newlines=True)\n",
    "        return output.strip()\n",
    "    except subprocess.CalledProcessError:\n",
    "        return \"Unknown Codec\"\n",
    "\n",
    "def find_media_files(directory):\n",
    "    # Find media files in the specified directory\n",
    "    media_extensions = ['.mp3', '.mp4', '.mkv', '.avi', '.wmv', '.mov', '.flv', '.wav', '.ogg', '.webm']\n",
    "    media_files = []\n",
    "\n",
    "    for extension in media_extensions:\n",
    "        pattern = os.path.join(directory, f\"*{extension}\")\n",
    "        media_files.extend(glob.glob(pattern, recursive=True))\n",
    "\n",
    "    return media_files\n",
    "\n",
    "if __name__ == \"__main__\":\n",
    "    # Replace 'directory_path' with the path of the directory you want to search\n",
    "    directory_path = '/path/to/your/directory'\n",
    "\n",
    "    media_files = find_media_files(directory_path)\n",
    "    if not media_files:\n",
    "        print(\"No media files found.\")\n",
    "    else:\n",
    "        print(\"Media files found:\")\n",
    "        for file_path in media_files:\n",
    "            mime_type = get_file_type(file_path)\n",
    "            codec = get_codec_info(file_path)\n",
    "            print(f\"File: {file_path}, MIME Type: {mime_type}, Codec: {codec}\")"
   ]
  },
  {
   "cell_type": "code",
   "execution_count": null,
   "id": "ea50c3f9",
   "metadata": {},
   "outputs": [],
   "source": []
  }
 ],
 "metadata": {
  "kernelspec": {
   "display_name": "Python 3 (ipykernel)",
   "language": "python",
   "name": "python3"
  },
  "language_info": {
   "codemirror_mode": {
    "name": "ipython",
    "version": 3
   },
   "file_extension": ".py",
   "mimetype": "text/x-python",
   "name": "python",
   "nbconvert_exporter": "python",
   "pygments_lexer": "ipython3",
   "version": "3.9.12"
  }
 },
 "nbformat": 4,
 "nbformat_minor": 5
}
